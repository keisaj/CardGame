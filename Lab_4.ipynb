{
  "cells": [
    {
      "cell_type": "markdown",
      "metadata": {
        "id": "wjg48-5UQsvb"
      },
      "source": [
        "# Laboratorium 4 (4 pkt.)\n",
        "\n",
        "Celem czwartego laboratorium jest zapoznanie się oraz zaimplementowanie algorytmów głębokiego uczenia aktywnego. Zaimplementowane algorytmy będą testowane z wykorzystaniem wcześniej przygotowanych środowisk: *FrozenLake* i *Pacman* oraz środowiska z OpenAI - *CartPole*.\n"
      ]
    },
    {
      "cell_type": "markdown",
      "metadata": {
        "id": "l5T6RnY6Qsvf"
      },
      "source": [
        "Dołączenie standardowych bibliotek"
      ]
    },
    {
      "cell_type": "code",
      "execution_count": null,
      "metadata": {
        "colab": {
          "base_uri": "https://localhost:8080/"
        },
        "id": "8BPUwv6tQuwS",
        "outputId": "3699f9a5-920a-4102-b2cf-17165d9eaeb3"
      },
      "outputs": [
        {
          "name": "stdout",
          "output_type": "stream",
          "text": [
            "Requirement already satisfied: gym in /usr/local/lib/python3.7/dist-packages (0.17.3)\n",
            "Requirement already satisfied: cloudpickle<1.7.0,>=1.2.0 in /usr/local/lib/python3.7/dist-packages (from gym) (1.3.0)\n",
            "Requirement already satisfied: pyglet<=1.5.0,>=1.4.0 in /usr/local/lib/python3.7/dist-packages (from gym) (1.5.0)\n",
            "Requirement already satisfied: numpy>=1.10.4 in /usr/local/lib/python3.7/dist-packages (from gym) (1.19.5)\n",
            "Requirement already satisfied: scipy in /usr/local/lib/python3.7/dist-packages (from gym) (1.4.1)\n",
            "Requirement already satisfied: future in /usr/local/lib/python3.7/dist-packages (from pyglet<=1.5.0,>=1.4.0->gym) (0.16.0)\n"
          ]
        }
      ],
      "source": [
        "%pip install gym"
      ]
    },
    {
      "cell_type": "code",
      "execution_count": null,
      "metadata": {
        "id": "FYxaCyOXQsvg"
      },
      "outputs": [],
      "source": [
        "from collections import deque\n",
        "import gym\n",
        "import numpy as np\n",
        "import random\n",
        "import math"
      ]
    },
    {
      "cell_type": "markdown",
      "metadata": {
        "id": "IKvuB1CnQsvh"
      },
      "source": [
        "Dołączenie bibliotek ze środowiskami:"
      ]
    },
    {
      "cell_type": "code",
      "execution_count": null,
      "metadata": {
        "id": "L1oykjd2Qsvi"
      },
      "outputs": [],
      "source": [
        "from FrozenLakeMDP import frozenLake\n",
        "from FrozenLakeMDPExtended import frozenLake as frozenLakeExtended\n"
      ]
    },
    {
      "cell_type": "markdown",
      "metadata": {
        "id": "g9WG33QcQsvi"
      },
      "source": [
        "Dołączenie bibliotek do obsługi sieci neuronowych"
      ]
    },
    {
      "cell_type": "code",
      "execution_count": null,
      "metadata": {
        "id": "t5bn1xlOQsvj"
      },
      "outputs": [],
      "source": [
        "from tensorflow import keras"
      ]
    },
    {
      "cell_type": "markdown",
      "metadata": {
        "id": "RIksnuLTQsvj"
      },
      "source": [
        "## Zadanie 1 - Deep Q-Network\n",
        "\n",
        "<p style='text-align: justify;'>\n",
        "Celem ćwiczenie jest zaimplementowanie algorytmu Deep Q-Network. Wartoscią oczekiwaną sieci jest:\n",
        "\\begin{equation}\n",
        "        Q(s_t, a_t) = r_{t+1} + \\gamma \\text{max}_a Q(s_{t + 1}, a)\n",
        "\\end{equation}\n",
        "</p>"
      ]
    },
    {
      "cell_type": "code",
      "execution_count": null,
      "metadata": {
        "id": "7HJueDxsQsvk"
      },
      "outputs": [],
      "source": [
        "class DQNAgent:\n",
        "    def __init__(self, action_size, learning_rate, model, get_legal_actions):\n",
        "        self.action_size = action_size\n",
        "        self.memory = deque(maxlen=2000)\n",
        "        self.gamma = 0.95    # discount rate\n",
        "        self.epsilon = 1.0  # exploration rate\n",
        "        self.epsilon_min = 0.01\n",
        "        self.epsilon_decay = 0.95\n",
        "        self.learning_rate = learning_rate\n",
        "        self.model = model\n",
        "        self.get_legal_actions = get_legal_actions\n",
        "\n",
        "    def remember(self, state, action, reward, next_state, done):\n",
        "        #Function adds information to the memory about last action and its results\n",
        "        self.memory.append((state, action, reward, next_state, done)) \n",
        "\n",
        "    def get_action(self, state):\n",
        "        \"\"\"\n",
        "        Compute the action to take in the current state, including exploration.\n",
        "        With probability self.epsilon, we should take a random action.\n",
        "            otherwise - the best policy action (self.get_best_action).\n",
        "\n",
        "        Note: To pick randomly from a list, use random.choice(list).\n",
        "              To pick True or False with a given probablity, generate uniform number in [0, 1]\n",
        "              and compare it with your probability\n",
        "        \"\"\"\n",
        "\n",
        "        #\n",
        "        # INSERT CODE HERE to get action in a given state (according to epsilon greedy algorithm)\n",
        "        # \n",
        "        if self.get_legal_actions == None:\n",
        "          possible_actions = [0,1]\n",
        "        else:\n",
        "          possible_actions = self.get_legal_actions(state)       \n",
        "        # lst = [0,1]\n",
        "        # choice = random.choices(lst, weights=(1-self.epsilon, self.epsilon))\n",
        "        # chosen_action = random.choice(possible_actions) if choice == [1] else self.get_best_action(state)\n",
        "        # return chosen_action\n",
        "\n",
        "        return random.choice(possible_actions) if (np.random.random() <= self.epsilon) else self.get_best_action(state)\n",
        "\n",
        "  \n",
        "    def get_best_action(self, state):\n",
        "        \"\"\"\n",
        "        Compute the best action to take in a state.\n",
        "        \"\"\"\n",
        "\n",
        "        #\n",
        "        # INSERT CODE HERE to get best possible action in a given state (remember to break ties randomly)\n",
        "        #\n",
        "        return np.argmax(self.model.predict(state)[0])\n",
        "\n",
        "    def replay(self, batch_size):\n",
        "        \"\"\"\n",
        "        Function learn network using randomly selected actions from the memory. \n",
        "        First calculates Q value for the next state and choose action with the biggest value.\n",
        "        Target value is calculated according to:\n",
        "                Q(s,a) := (r + gamma * max_a(Q(s', a)))\n",
        "        except the situation when the next action is the last action, in such case Q(s, a) := r.\n",
        "        In order to change only those weights responsible for chosing given action, the rest values should be those\n",
        "        returned by the network for state state.\n",
        "        The network should be trained on batch_size samples.\n",
        "        \"\"\"\n",
        "        #\n",
        "        # INSERT CODE HERE to train network\n",
        "        #\n",
        "        \n",
        "        if len(self.memory) < batch_size:\n",
        "            return\n",
        "\n",
        "        minibatch = random.sample(self.memory, batch_size)\n",
        "        \n",
        "        states_batch = np.array([sample[0][0] for sample in minibatch])\n",
        "        \n",
        "        target_batch = self.model.predict(states_batch)\n",
        "\n",
        "        next_states_batch = np.array([sample[3][0] for sample in minibatch])\n",
        "        next_states_target_batch = self.model.predict(next_states_batch, batch_size=batch_size)\n",
        "\n",
        "        for batch_idx, (state, action, reward, next_state, done) in enumerate(minibatch):\n",
        "\n",
        "            if done:\n",
        "                target_batch[batch_idx][action] = reward\n",
        "            else:\n",
        "                target_batch[batch_idx][action] = reward + self.gamma * max(next_states_target_batch[batch_idx][:])\n",
        "\n",
        "\n",
        "        self.model.fit(states_batch, target_batch, batch_size=batch_size, verbose=0)\n",
        "        \n",
        "\n",
        "\n",
        "    def update_epsilon_value(self):\n",
        "        #Every each epoch epsilon value should be updated according to equation: \n",
        "        #self.epsilon *= self.epsilon_decay, but the updated value shouldn't be lower then epsilon_min value\n",
        "        if self.epsilon >= self.epsilon_min:\n",
        "            self.epsilon *= self.epsilon_decay\n",
        "        \n"
      ]
    },
    {
      "cell_type": "markdown",
      "metadata": {
        "id": "UwcfWPaRQsvl"
      },
      "source": [
        "Czas przygotować model sieci, która będzie się uczyła poruszania po środowisku *FrozenLake*, warstwa wejściowa powinna mieć tyle neuronów ile jest możlliwych stanów, warstwa wyjściowa tyle neuronów ile jest możliwych akcji do wykonania:"
      ]
    },
    {
      "cell_type": "code",
      "execution_count": null,
      "metadata": {
        "colab": {
          "base_uri": "https://localhost:8080/"
        },
        "id": "Q3AAwbRRQsvm",
        "outputId": "36021bda-33f2-42e1-8f66-ed7b8276bde7"
      },
      "outputs": [
        {
          "name": "stdout",
          "output_type": "stream",
          "text": [
            "Model: \"sequential\"\n",
            "_________________________________________________________________\n",
            " Layer (type)                Output Shape              Param #   \n",
            "=================================================================\n",
            " dense (Dense)               (None, 64)                1088      \n",
            "                                                                 \n",
            " dense_1 (Dense)             (None, 64)                4160      \n",
            "                                                                 \n",
            " dense_2 (Dense)             (None, 4)                 260       \n",
            "                                                                 \n",
            "=================================================================\n",
            "Total params: 5,508\n",
            "Trainable params: 5,508\n",
            "Non-trainable params: 0\n",
            "_________________________________________________________________\n",
            "None\n"
          ]
        }
      ],
      "source": [
        "env = frozenLake(\"4x4\")\n",
        "\n",
        "state_size = env.get_number_of_states()\n",
        "action_size = len(env.get_possible_actions(None))\n",
        "learning_rate = 0.001\n",
        "\n",
        "\n",
        "model = keras.Sequential()\n",
        "model.add(keras.layers.Dense(64, input_dim=state_size, activation=\"relu\"))\n",
        "model.add(keras.layers.Dense(64, activation=\"relu\"))\n",
        "model.add(keras.layers.Dense(action_size))\n",
        "model.compile(loss=\"mse\",\n",
        "              optimizer=keras.optimizers.Adam(learning_rate=learning_rate))\n",
        "print(model.summary())"
      ]
    },
    {
      "cell_type": "markdown",
      "metadata": {
        "id": "2IdpwbmRQsvm"
      },
      "source": [
        " Czas nauczyć agenta poruszania się po środowisku *FrozenLake*, jako stan przyjmij wektor o liczbie elementów równej liczbie możliwych stanów, z wartością 1 ustawioną w komórce o indeksie równym aktualnemu stanowi, pozostałe elementy mają być wypełnione zerami:\n",
        "* 1 pkt < 35 epok,\n",
        "* 0.5 pkt < 60 epok,\n",
        "* 0.25 pkt - w pozostałych przypadkach."
      ]
    },
    {
      "cell_type": "code",
      "execution_count": null,
      "metadata": {
        "colab": {
          "base_uri": "https://localhost:8080/"
        },
        "id": "3ZT-RxslQsvn",
        "outputId": "35a9bb0e-9451-461a-ab9a-64cb12d2d84a"
      },
      "outputs": [
        {
          "name": "stdout",
          "output_type": "stream",
          "text": [
            "epoch #0\tmean reward = 0.000\tepsilon = 0.712\n",
            "epoch #1\tmean reward = 0.060\tepsilon = 0.677\n",
            "epoch #2\tmean reward = 0.070\tepsilon = 0.643\n",
            "epoch #3\tmean reward = 0.110\tepsilon = 0.611\n",
            "epoch #4\tmean reward = 0.140\tepsilon = 0.580\n",
            "epoch #5\tmean reward = 0.150\tepsilon = 0.551\n",
            "epoch #6\tmean reward = 0.060\tepsilon = 0.524\n",
            "epoch #7\tmean reward = 0.150\tepsilon = 0.498\n",
            "epoch #8\tmean reward = 0.190\tepsilon = 0.473\n",
            "epoch #9\tmean reward = 0.200\tepsilon = 0.449\n",
            "epoch #10\tmean reward = 0.270\tepsilon = 0.427\n",
            "epoch #11\tmean reward = 0.240\tepsilon = 0.405\n",
            "epoch #12\tmean reward = 0.410\tepsilon = 0.385\n",
            "epoch #13\tmean reward = 0.430\tepsilon = 0.366\n",
            "epoch #14\tmean reward = 0.220\tepsilon = 0.347\n",
            "epoch #15\tmean reward = 0.430\tepsilon = 0.330\n",
            "epoch #16\tmean reward = 0.450\tepsilon = 0.314\n",
            "epoch #17\tmean reward = 0.510\tepsilon = 0.298\n",
            "epoch #18\tmean reward = 0.600\tepsilon = 0.283\n",
            "epoch #19\tmean reward = 0.430\tepsilon = 0.269\n",
            "epoch #20\tmean reward = 0.440\tepsilon = 0.255\n",
            "epoch #21\tmean reward = 0.570\tepsilon = 0.243\n",
            "epoch #22\tmean reward = 0.440\tepsilon = 0.231\n",
            "epoch #23\tmean reward = 0.570\tepsilon = 0.219\n",
            "epoch #24\tmean reward = 0.690\tepsilon = 0.208\n",
            "epoch #25\tmean reward = 0.630\tepsilon = 0.198\n",
            "epoch #26\tmean reward = 0.610\tepsilon = 0.188\n",
            "epoch #27\tmean reward = 0.690\tepsilon = 0.178\n",
            "epoch #28\tmean reward = 0.680\tepsilon = 0.169\n",
            "epoch #29\tmean reward = 0.720\tepsilon = 0.161\n",
            "epoch #30\tmean reward = 0.650\tepsilon = 0.153\n",
            "epoch #31\tmean reward = 0.710\tepsilon = 0.145\n",
            "epoch #32\tmean reward = 0.790\tepsilon = 0.138\n",
            "epoch #33\tmean reward = 0.680\tepsilon = 0.131\n",
            "epoch #34\tmean reward = 0.750\tepsilon = 0.125\n",
            "epoch #35\tmean reward = 0.880\tepsilon = 0.118\n",
            "epoch #36\tmean reward = 0.870\tepsilon = 0.112\n",
            "epoch #37\tmean reward = 0.750\tepsilon = 0.107\n",
            "epoch #38\tmean reward = 0.850\tepsilon = 0.101\n",
            "epoch #39\tmean reward = 0.920\tepsilon = 0.096\n",
            "You Win!\n"
          ]
        }
      ],
      "source": [
        "agent = DQNAgent(action_size, learning_rate, model, get_legal_actions=env.get_possible_actions)\n",
        "\n",
        "agent.epsilon = 0.75\n",
        "\n",
        "done = False\n",
        "batch_size = 64\n",
        "EPISODES = 100\n",
        "counter = 0\n",
        "for e in range(EPISODES):\n",
        "    \n",
        "    summary = []\n",
        "    for i in range(100):\n",
        "        \n",
        "        total_reward = 0\n",
        "        env_state = env.reset()\n",
        "    \n",
        "        #\n",
        "        # INSERT CODE HERE to prepare appropriate format of the state for network\n",
        "        #\n",
        "        state = np.array([keras.utils.to_categorical(env_state, num_classes=state_size)])\n",
        "\n",
        "\n",
        "        for time in range(1000):\n",
        "            \n",
        "            action = agent.get_action(state)\n",
        "            next_state_env, reward, done, _ = env.step(action)\n",
        "            total_reward += reward\n",
        "\n",
        "            #\n",
        "            # INSERT CODE HERE to prepare appropriate format of the next state for network\n",
        "            #\n",
        "            next_state = np.array([keras.utils.to_categorical(next_state_env, num_classes=state_size)])\n",
        "            #add to experience memory\n",
        "            agent.remember(state, action, reward, next_state, done)\n",
        "            state = next_state\n",
        "            if done:\n",
        "                break\n",
        "\n",
        "        #\n",
        "        # INSERT CODE HERE to train network if in the memory is more samples then size of the batch\n",
        "        #\n",
        "        if len(agent.memory) > batch_size:\n",
        "            agent.replay(batch_size)\n",
        "\n",
        "        summary.append(total_reward)\n",
        "    agent.update_epsilon_value()\n",
        "\n",
        "    print(\"epoch #{}\\tmean reward = {:.3f}\\tepsilon = {:.3f}\".format(e, np.mean(summary), agent.epsilon))\n",
        "    if np.mean(summary) > 0.9:\n",
        "        print (\"You Win!\")\n",
        "        break"
      ]
    },
    {
      "cell_type": "markdown",
      "metadata": {
        "id": "x_SVXU9OQsvn"
      },
      "source": [
        "Czas przygotować model sieci, która będzie się uczyła poruszania po środowisku *FrozenLakeExtended*, tym razem stan nie jest określany poprzez pojedynczą liczbę, a przez 3 tablice:\n",
        "* pierwsza zawierająca informacje o celu,\n",
        "* druga zawierająca informacje o dziurach,\n",
        "* trzecia zawierająca informację o położeniu gracza."
      ]
    },
    {
      "cell_type": "code",
      "execution_count": null,
      "metadata": {
        "colab": {
          "base_uri": "https://localhost:8080/"
        },
        "id": "S6IMQ_cLQsvn",
        "outputId": "ac174e5b-23d3-4606-aff4-5b4ef3f76333"
      },
      "outputs": [
        {
          "name": "stderr",
          "output_type": "stream",
          "text": [
            "/usr/local/lib/python3.7/dist-packages/keras/optimizer_v2/adam.py:105: UserWarning: The `lr` argument is deprecated, use `learning_rate` instead.\n",
            "  super(Adam, self).__init__(name, **kwargs)\n"
          ]
        }
      ],
      "source": [
        "env = frozenLakeExtended(\"4x4\")\n",
        "\n",
        "state_size = env.get_number_of_states()*3\n",
        "action_size = len(env.get_possible_actions(None))\n",
        "learning_rate = 0.001\n",
        "\n",
        "model = keras.Sequential()\n",
        "model.add(keras.layers.Dense(64, input_dim=state_size, activation=\"relu\"))\n",
        "model.add(keras.layers.Dense(64*2, activation=\"relu\"))\n",
        "model.add(keras.layers.Dense(64, activation=\"relu\"))\n",
        "model.add(keras.layers.Dense(action_size))  # wyjście\n",
        "model.compile(loss=\"mean_squared_error\",\n",
        "              optimizer=keras.optimizers.Adam(lr=learning_rate))"
      ]
    },
    {
      "cell_type": "markdown",
      "metadata": {
        "id": "hAjlbzVMQsvo"
      },
      "source": [
        " Czas nauczyć agenta poruszania się po środowisku *FrozenLakeExtended*, jako stan przyjmij wektor składający się ze wszystkich trzech tablic (2 pkt.):"
      ]
    },
    {
      "cell_type": "code",
      "execution_count": null,
      "metadata": {
        "colab": {
          "base_uri": "https://localhost:8080/"
        },
        "id": "VH_W4hjQQsvo",
        "outputId": "cf82566e-8460-48a3-8312-d152c5627079"
      },
      "outputs": [
        {
          "name": "stdout",
          "output_type": "stream",
          "text": [
            "epoch #0\tmean reward = 0.010\tepsilon = 0.712\n",
            "epoch #1\tmean reward = 0.040\tepsilon = 0.677\n",
            "epoch #2\tmean reward = 0.140\tepsilon = 0.643\n",
            "epoch #3\tmean reward = 0.220\tepsilon = 0.611\n",
            "epoch #4\tmean reward = 0.080\tepsilon = 0.580\n",
            "epoch #5\tmean reward = 0.160\tepsilon = 0.551\n",
            "epoch #6\tmean reward = 0.180\tepsilon = 0.524\n",
            "epoch #7\tmean reward = 0.230\tepsilon = 0.498\n",
            "epoch #8\tmean reward = 0.340\tepsilon = 0.473\n",
            "epoch #9\tmean reward = 0.280\tepsilon = 0.449\n",
            "epoch #10\tmean reward = 0.280\tepsilon = 0.427\n",
            "epoch #11\tmean reward = 0.250\tepsilon = 0.405\n",
            "epoch #12\tmean reward = 0.330\tepsilon = 0.385\n",
            "epoch #13\tmean reward = 0.400\tepsilon = 0.366\n",
            "epoch #14\tmean reward = 0.470\tepsilon = 0.347\n",
            "epoch #15\tmean reward = 0.530\tepsilon = 0.330\n",
            "epoch #16\tmean reward = 0.570\tepsilon = 0.314\n",
            "epoch #17\tmean reward = 0.660\tepsilon = 0.298\n",
            "epoch #18\tmean reward = 0.570\tepsilon = 0.283\n",
            "epoch #19\tmean reward = 0.670\tepsilon = 0.269\n",
            "epoch #20\tmean reward = 0.690\tepsilon = 0.255\n",
            "epoch #21\tmean reward = 0.680\tepsilon = 0.243\n",
            "epoch #22\tmean reward = 0.580\tepsilon = 0.231\n",
            "epoch #23\tmean reward = 0.630\tepsilon = 0.219\n",
            "epoch #24\tmean reward = 0.720\tepsilon = 0.208\n",
            "epoch #25\tmean reward = 0.750\tepsilon = 0.198\n",
            "epoch #26\tmean reward = 0.680\tepsilon = 0.188\n",
            "epoch #27\tmean reward = 0.770\tepsilon = 0.178\n",
            "epoch #28\tmean reward = 0.780\tepsilon = 0.169\n",
            "epoch #29\tmean reward = 0.760\tepsilon = 0.161\n",
            "epoch #30\tmean reward = 0.700\tepsilon = 0.153\n",
            "epoch #31\tmean reward = 0.600\tepsilon = 0.145\n",
            "epoch #32\tmean reward = 0.730\tepsilon = 0.138\n",
            "epoch #33\tmean reward = 0.460\tepsilon = 0.131\n",
            "epoch #34\tmean reward = 0.820\tepsilon = 0.125\n",
            "epoch #35\tmean reward = 0.780\tepsilon = 0.118\n",
            "epoch #36\tmean reward = 0.760\tepsilon = 0.112\n",
            "epoch #37\tmean reward = 0.500\tepsilon = 0.107\n",
            "epoch #38\tmean reward = 0.870\tepsilon = 0.101\n",
            "epoch #39\tmean reward = 0.690\tepsilon = 0.096\n",
            "epoch #40\tmean reward = 0.790\tepsilon = 0.092\n",
            "epoch #41\tmean reward = 0.870\tepsilon = 0.087\n",
            "epoch #42\tmean reward = 0.820\tepsilon = 0.083\n",
            "epoch #43\tmean reward = 0.890\tepsilon = 0.079\n",
            "epoch #44\tmean reward = 0.900\tepsilon = 0.075\n",
            "epoch #45\tmean reward = 0.890\tepsilon = 0.071\n",
            "epoch #46\tmean reward = 0.900\tepsilon = 0.067\n",
            "epoch #47\tmean reward = 0.920\tepsilon = 0.064\n",
            "You Win!\n"
          ]
        }
      ],
      "source": [
        "agent = DQNAgent(action_size, learning_rate, model, get_legal_actions=env.get_possible_actions)\n",
        "\n",
        "agent.epsilon = 0.75\n",
        "\n",
        "done = False\n",
        "batch_size = 64\n",
        "EPISODES = 100\n",
        "counter = 0\n",
        "for e in range(EPISODES):\n",
        "    summary = []\n",
        "    for _ in range(100):\n",
        "        total_reward = 0\n",
        "        env_state = env.reset()\n",
        "    \n",
        "        #\n",
        "        # INSERT CODE HERE to prepare appropriate format of the state for network\n",
        "        #\n",
        "        state = np.array([np.array(env_state).flatten()])\n",
        "        \n",
        "        for time in range(1000):\n",
        "            action = agent.get_action(state)\n",
        "            next_state_env, reward, done, _ = env.step(action)\n",
        "            total_reward += reward\n",
        "\n",
        "            #\n",
        "            # INSERT CODE HERE to prepare appropriate format of the next state for network\n",
        "            #\n",
        "            next_state = np.array([np.array(next_state_env).flatten()])\n",
        "\n",
        "            #add to experience memory\n",
        "            agent.remember(state, action, reward, next_state, done)\n",
        "            state = next_state\n",
        "            if done:\n",
        "                break\n",
        "\n",
        "        #\n",
        "        # INSERT CODE HERE to train network if in the memory is more samples then size of the batch\n",
        "        #\n",
        "        if len(agent.memory) > batch_size:\n",
        "            agent.replay(batch_size)\n",
        "\n",
        "        summary.append(total_reward)\n",
        "    agent.update_epsilon_value()\n",
        "    print(\"epoch #{}\\tmean reward = {:.3f}\\tepsilon = {:.3f}\".format(e, np.mean(summary), agent.epsilon))\n",
        "    if np.mean(summary) > 0.9:\n",
        "        print (\"You Win!\")\n",
        "        break\n",
        "    "
      ]
    },
    {
      "cell_type": "markdown",
      "metadata": {
        "id": "dxpnigPlQsvp"
      },
      "source": [
        "Czas przygotować model sieci, która będzie się uczyła działania w środowisku [*CartPool*](https://gym.openai.com/envs/CartPole-v0/):"
      ]
    },
    {
      "cell_type": "code",
      "execution_count": null,
      "metadata": {
        "id": "2QgGWgbGQsvp"
      },
      "outputs": [],
      "source": [
        "env = gym.make(\"CartPole-v0\").env\n",
        "state_size = env.observation_space.shape[0]\n",
        "action_size = env.action_space.n\n",
        "learning_rate = 0.001\n",
        "\n",
        "model = keras.Sequential()\n",
        "model.add(keras.layers.Dense(64, input_dim=state_size, activation='relu'))\n",
        "model.add(keras.layers.Dense(64*2, activation='relu'))\n",
        "model.add(keras.layers.Dense(64, activation='relu'))\n",
        "model.add(keras.layers.Dense(action_size, activation='linear'))\n",
        "model.compile(loss='mse',\n",
        "              optimizer=keras.optimizers.Adam(learning_rate=learning_rate))"
      ]
    },
    {
      "cell_type": "markdown",
      "metadata": {
        "id": "CITI9RPFQsvp"
      },
      "source": [
        "Czas nauczyć agenta gry w środowisku *CartPool*:\n",
        "* 1 pkt < 10 epok,\n",
        "* 0.5 pkt < 20 epok,\n",
        "* 0.25 pkt - w pozostałych przypadkach."
      ]
    },
    {
      "cell_type": "code",
      "execution_count": null,
      "metadata": {
        "colab": {
          "base_uri": "https://localhost:8080/"
        },
        "id": "htpFpZF1Qsvq",
        "outputId": "30d0966e-aeaa-424b-cce8-258ebca61336"
      },
      "outputs": [
        {
          "name": "stdout",
          "output_type": "stream",
          "text": [
            "epoch #0\tmean reward = 18.120\tepsilon = 0.712\n",
            "epoch #1\tmean reward = 16.790\tepsilon = 0.677\n",
            "epoch #2\tmean reward = 22.380\tepsilon = 0.643\n",
            "epoch #3\tmean reward = 48.120\tepsilon = 0.611\n",
            "epoch #4\tmean reward = 41.970\tepsilon = 0.580\n",
            "epoch #5\tmean reward = 51.560\tepsilon = 0.551\n",
            "epoch #6\tmean reward = 53.150\tepsilon = 0.524\n",
            "epoch #7\tmean reward = 81.570\tepsilon = 0.498\n",
            "epoch #8\tmean reward = 101.760\tepsilon = 0.473\n",
            "epoch #9\tmean reward = 125.880\tepsilon = 0.449\n",
            "epoch #10\tmean reward = 167.010\tepsilon = 0.427\n",
            "epoch #11\tmean reward = 131.240\tepsilon = 0.405\n",
            "epoch #12\tmean reward = 158.030\tepsilon = 0.385\n",
            "epoch #13\tmean reward = 156.640\tepsilon = 0.366\n",
            "epoch #14\tmean reward = 229.650\tepsilon = 0.347\n",
            "You Win!\n"
          ]
        }
      ],
      "source": [
        "agent = DQNAgent(action_size, learning_rate, model,get_legal_actions=None)\n",
        "\n",
        "agent.epsilon = 0.75\n",
        "\n",
        "done = False\n",
        "batch_size = 64\n",
        "EPISODES = 100\n",
        "counter = 0\n",
        "for e in range(EPISODES):\n",
        "    summary = []\n",
        "    for _ in range(100):\n",
        "        total_reward = 0\n",
        "        env_state = env.reset()\n",
        "    \n",
        "        #\n",
        "        # INSERT CODE HERE to prepare appropriate format of the state for network\n",
        "        #\n",
        "        state = np.reshape(env_state, [1, state_size])\n",
        "        for time in range(300):\n",
        "            action = agent.get_action(state)\n",
        "            next_state_env, reward, done, _ = env.step(action)\n",
        "            total_reward += reward\n",
        "\n",
        "            #\n",
        "            # INSERT CODE HERE to prepare appropriate format of the next state for network\n",
        "            #\n",
        "            next_state = np.reshape(next_state_env, [1, state_size])\n",
        "            #add to experience memory\n",
        "            agent.remember(state, action, reward, next_state, done)\n",
        "            state = next_state\n",
        "            if done:\n",
        "                break\n",
        "\n",
        "        #\n",
        "        # INSERT CODE HERE to train network if in the memory is more samples then size of the batch\n",
        "        #\n",
        "        if len(agent.memory) > batch_size:\n",
        "            agent.replay(batch_size)\n",
        "          \n",
        "\n",
        "        summary.append(total_reward)\n",
        "    agent.update_epsilon_value()\n",
        "    print(\"epoch #{}\\tmean reward = {:.3f}\\tepsilon = {:.3f}\".format(e, np.mean(summary), agent.epsilon))\n",
        "    if np.mean(summary) > 195:\n",
        "        print (\"You Win!\")\n",
        "        break\n",
        "    "
      ]
    },
    {
      "cell_type": "code",
      "execution_count": null,
      "metadata": {
        "id": "kCnLhpTWwUx3"
      },
      "outputs": [],
      "source": [
        "  "
      ]
    }
  ],
  "metadata": {
    "accelerator": "GPU",
    "colab": {
      "collapsed_sections": [],
      "name": "Lab. 4.ipynb",
      "provenance": []
    },
    "kernelspec": {
      "display_name": "Python 3",
      "language": "python",
      "name": "python3"
    },
    "language_info": {
      "codemirror_mode": {
        "name": "ipython",
        "version": 3
      },
      "file_extension": ".py",
      "mimetype": "text/x-python",
      "name": "python",
      "nbconvert_exporter": "python",
      "pygments_lexer": "ipython3",
      "version": "3.7.5"
    }
  },
  "nbformat": 4,
  "nbformat_minor": 0
}
